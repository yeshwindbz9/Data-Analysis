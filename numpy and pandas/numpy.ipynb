{
    "cells": [
        {
            "cell_type": "markdown",
            "metadata": {},
            "source": [
                "#Numpy is a python library with support for large arrays and matrices, it also let's us operate on them by using several mathematical functions."
            ]
        },
        {
            "cell_type": "code",
            "execution_count": 2,
            "metadata": {},
            "outputs": [],
            "source": [
                "some_list = [1, 2, 3]"
            ]
        },
        {
            "cell_type": "code",
            "execution_count": 3,
            "metadata": {},
            "outputs": [],
            "source": [
                "import numpy as np #importing numpy as np"
            ]
        },
        {
            "cell_type": "code",
            "execution_count": 4,
            "metadata": {},
            "outputs": [
                {
                    "data": {
                        "text/plain": [
                            "array([1, 2, 3])"
                        ]
                    },
                    "execution_count": 4,
                    "metadata": {},
                    "output_type": "execute_result"
                }
            ],
            "source": [
                "np.array(some_list) #to convert a list to nparray"
            ]
        },
        {
            "cell_type": "code",
            "execution_count": 6,
            "metadata": {},
            "outputs": [
                {
                    "data": {
                        "text/plain": [
                            "array([ 0,  2,  4,  6,  8, 10])"
                        ]
                    },
                    "execution_count": 6,
                    "metadata": {},
                    "output_type": "execute_result"
                }
            ],
            "source": [
                "np.arange(0, 10+1, 2) #get a nparray from arguments(start, stop, interval)"
            ]
        },
        {
            "cell_type": "code",
            "execution_count": 7,
            "metadata": {},
            "outputs": [
                {
                    "data": {
                        "text/plain": [
                            "array([[0., 0.],\n",
                            "       [0., 0.]])"
                        ]
                    },
                    "execution_count": 7,
                    "metadata": {},
                    "output_type": "execute_result"
                }
            ],
            "source": [
                "np.zeros((2,2)) #get a nparray of zeros"
            ]
        },
        {
            "cell_type": "code",
            "execution_count": 8,
            "metadata": {},
            "outputs": [
                {
                    "data": {
                        "text/plain": [
                            "array([[1., 1., 1.],\n",
                            "       [1., 1., 1.],\n",
                            "       [1., 1., 1.]])"
                        ]
                    },
                    "execution_count": 8,
                    "metadata": {},
                    "output_type": "execute_result"
                }
            ],
            "source": [
                "np.ones((3,3)) #get a nparray of ones"
            ]
        },
        {
            "cell_type": "code",
            "execution_count": 11,
            "metadata": {},
            "outputs": [
                {
                    "data": {
                        "text/plain": [
                            "array([0.        , 0.55555556, 1.11111111, 1.66666667, 2.22222222,\n",
                            "       2.77777778, 3.33333333, 3.88888889, 4.44444444, 5.        ])"
                        ]
                    },
                    "execution_count": 11,
                    "metadata": {},
                    "output_type": "execute_result"
                }
            ],
            "source": [
                "np.linspace(0, 5, 10) #get a nparray of evenly spaced nums with arguments(min, max, interval)"
            ]
        },
        {
            "cell_type": "code",
            "execution_count": 12,
            "metadata": {},
            "outputs": [
                {
                    "data": {
                        "text/plain": [
                            "array([[1., 0., 0., 0.],\n",
                            "       [0., 1., 0., 0.],\n",
                            "       [0., 0., 1., 0.],\n",
                            "       [0., 0., 0., 1.]])"
                        ]
                    },
                    "execution_count": 12,
                    "metadata": {},
                    "output_type": "execute_result"
                }
            ],
            "source": [
                "np.eye(4) #get an nparray of ones"
            ]
        },
        {
            "cell_type": "code",
            "execution_count": 13,
            "metadata": {},
            "outputs": [
                {
                    "data": {
                        "text/plain": [
                            "array([0.38747336, 0.60007783, 0.25624653, 0.27218347, 0.25945587])"
                        ]
                    },
                    "execution_count": 13,
                    "metadata": {},
                    "output_type": "execute_result"
                }
            ],
            "source": [
                "np.random.rand(5) #get an nparray from uniform distribution with size as argument"
            ]
        },
        {
            "cell_type": "code",
            "execution_count": 14,
            "metadata": {},
            "outputs": [
                {
                    "data": {
                        "text/plain": [
                            "array([[0.85324387, 0.11120182, 0.14306011, 0.76788459, 0.44445348],\n",
                            "       [0.1580656 , 0.58922064, 0.39499317, 0.87696023, 0.16435173],\n",
                            "       [0.35727164, 0.45254839, 0.38870808, 0.76233898, 0.1665017 ],\n",
                            "       [0.18585237, 0.6667147 , 0.48389822, 0.12294509, 0.40619864],\n",
                            "       [0.52286948, 0.16888266, 0.0884555 , 0.59911299, 0.83324936]])"
                        ]
                    },
                    "execution_count": 14,
                    "metadata": {},
                    "output_type": "execute_result"
                }
            ],
            "source": [
                "np.random.rand(5,5) #a 2d nparray from uniform distribution"
            ]
        },
        {
            "cell_type": "code",
            "execution_count": 15,
            "metadata": {},
            "outputs": [
                {
                    "data": {
                        "text/plain": [
                            "array([ 0.93572009, -0.74169139,  1.2900841 , -0.38846899,  0.92645048])"
                        ]
                    },
                    "execution_count": 15,
                    "metadata": {},
                    "output_type": "execute_result"
                }
            ],
            "source": [
                "np.random.randn(5) #get an nparray from from standard normal distribution"
            ]
        },
        {
            "cell_type": "code",
            "execution_count": 16,
            "metadata": {},
            "outputs": [
                {
                    "data": {
                        "text/plain": [
                            "array([[ 1.52332354,  0.89089559,  0.43496458, -1.19344963,  1.48487466],\n",
                            "       [ 0.4403737 , -1.28895326, -1.29233576,  0.45438753, -0.50759944],\n",
                            "       [ 0.48744112,  0.63313946, -0.67644535, -0.84476243, -1.06577375],\n",
                            "       [ 0.2563145 ,  0.24812185, -1.716193  , -0.59646296,  0.07126344],\n",
                            "       [ 0.49605729,  0.22590368,  0.43736037, -1.26218477,  0.35336629]])"
                        ]
                    },
                    "execution_count": 16,
                    "metadata": {},
                    "output_type": "execute_result"
                }
            ],
            "source": [
                "np.random.randn(5,5) #a 2d nparray from normal distribution"
            ]
        },
        {
            "cell_type": "code",
            "execution_count": 18,
            "metadata": {},
            "outputs": [
                {
                    "data": {
                        "text/plain": [
                            "array([6, 4, 4, 3, 2, 5, 9, 6, 5, 9])"
                        ]
                    },
                    "execution_count": 18,
                    "metadata": {},
                    "output_type": "execute_result"
                }
            ],
            "source": [
                "np.random.randint(1, 10, 10) #produces a random int from arguments(min, max, numberOfInts)"
            ]
        },
        {
            "cell_type": "code",
            "execution_count": 21,
            "metadata": {},
            "outputs": [
                {
                    "data": {
                        "text/plain": [
                            "array([ 0,  1,  2,  3,  4,  5,  6,  7,  8,  9, 10, 11, 12, 13, 14, 15, 16,\n",
                            "       17, 18, 19, 20, 21, 22, 23, 24])"
                        ]
                    },
                    "execution_count": 21,
                    "metadata": {},
                    "output_type": "execute_result"
                }
            ],
            "source": [
                "arr = np.arange(25)\n",
                "arr #get an nparray in a range"
            ]
        },
        {
            "cell_type": "code",
            "execution_count": 22,
            "metadata": {},
            "outputs": [
                {
                    "data": {
                        "text/plain": [
                            "array([13, 21, 33, 47, 17, 30, 36,  8,  0, 48])"
                        ]
                    },
                    "execution_count": 22,
                    "metadata": {},
                    "output_type": "execute_result"
                }
            ],
            "source": [
                "ranarr = np.random.randint(0, 50, 10)\n",
                "ranarr #get an nparray of random nums from arguments(min, max, size)"
            ]
        },
        {
            "cell_type": "code",
            "execution_count": 23,
            "metadata": {},
            "outputs": [
                {
                    "data": {
                        "text/plain": [
                            "array([[ 0,  1,  2,  3,  4],\n",
                            "       [ 5,  6,  7,  8,  9],\n",
                            "       [10, 11, 12, 13, 14],\n",
                            "       [15, 16, 17, 18, 19],\n",
                            "       [20, 21, 22, 23, 24]])"
                        ]
                    },
                    "execution_count": 23,
                    "metadata": {},
                    "output_type": "execute_result"
                }
            ],
            "source": [
                "arr.reshape(5,5) #reshape an nparray"
            ]
        },
        {
            "cell_type": "code",
            "execution_count": 25,
            "metadata": {},
            "outputs": [
                {
                    "data": {
                        "text/plain": [
                            "48"
                        ]
                    },
                    "execution_count": 25,
                    "metadata": {},
                    "output_type": "execute_result"
                }
            ],
            "source": [
                "ranarr.max() #get the max value from nparray"
            ]
        },
        {
            "cell_type": "code",
            "execution_count": 26,
            "metadata": {},
            "outputs": [
                {
                    "data": {
                        "text/plain": [
                            "0"
                        ]
                    },
                    "execution_count": 26,
                    "metadata": {},
                    "output_type": "execute_result"
                }
            ],
            "source": [
                "ranarr.min() #get the min value from nparray"
            ]
        },
        {
            "cell_type": "code",
            "execution_count": 28,
            "metadata": {},
            "outputs": [
                {
                    "data": {
                        "text/plain": [
                            "9"
                        ]
                    },
                    "execution_count": 28,
                    "metadata": {},
                    "output_type": "execute_result"
                }
            ],
            "source": [
                "ranarr.argmax() #get the location of the max value from nparray"
            ]
        },
        {
            "cell_type": "code",
            "execution_count": 29,
            "metadata": {},
            "outputs": [
                {
                    "data": {
                        "text/plain": [
                            "8"
                        ]
                    },
                    "execution_count": 29,
                    "metadata": {},
                    "output_type": "execute_result"
                }
            ],
            "source": [
                "ranarr.argmin() #get the location of the min value from nparray"
            ]
        },
        {
            "cell_type": "code",
            "execution_count": 30,
            "metadata": {},
            "outputs": [
                {
                    "data": {
                        "text/plain": [
                            "(25,)"
                        ]
                    },
                    "execution_count": 30,
                    "metadata": {},
                    "output_type": "execute_result"
                }
            ],
            "source": [
                "arr.shape #get the shape of the nparray"
            ]
        },
        {
            "cell_type": "code",
            "execution_count": 31,
            "metadata": {},
            "outputs": [
                {
                    "data": {
                        "text/plain": [
                            "(5, 5)"
                        ]
                    },
                    "execution_count": 31,
                    "metadata": {},
                    "output_type": "execute_result"
                }
            ],
            "source": [
                "arr = arr.reshape(5,5)\n",
                "arr.shape #resize and get the shape of the nparray"
            ]
        },
        {
            "cell_type": "code",
            "execution_count": 32,
            "metadata": {},
            "outputs": [
                {
                    "data": {
                        "text/plain": [
                            "dtype('int32')"
                        ]
                    },
                    "execution_count": 32,
                    "metadata": {},
                    "output_type": "execute_result"
                }
            ],
            "source": [
                "arr.dtype #get the data-type of the nparray"
            ]
        },
        {
            "cell_type": "code",
            "execution_count": 33,
            "metadata": {},
            "outputs": [
                {
                    "data": {
                        "text/plain": [
                            "4"
                        ]
                    },
                    "execution_count": 33,
                    "metadata": {},
                    "output_type": "execute_result"
                }
            ],
            "source": [
                "from numpy.random import randint\n",
                "randint(2, 10) #if you get bored typing the long package"
            ]
        },
        {
            "cell_type": "markdown",
            "metadata": {},
            "source": [
                "#Indexing and selecting elements from an nparray"
            ]
        },
        {
            "cell_type": "code",
            "execution_count": 34,
            "metadata": {},
            "outputs": [
                {
                    "data": {
                        "text/plain": [
                            "array([ 0,  1,  2,  3,  4,  5,  6,  7,  8,  9, 10])"
                        ]
                    },
                    "execution_count": 34,
                    "metadata": {},
                    "output_type": "execute_result"
                }
            ],
            "source": [
                "arr = np.arange(0, 10+1)\n",
                "arr #another nparray"
            ]
        },
        {
            "cell_type": "code",
            "execution_count": 36,
            "metadata": {},
            "outputs": [
                {
                    "data": {
                        "text/plain": [
                            "array([1, 2, 3, 4])"
                        ]
                    },
                    "execution_count": 36,
                    "metadata": {},
                    "output_type": "execute_result"
                }
            ],
            "source": [
                "arr[1:5] #everything from x to y"
            ]
        },
        {
            "cell_type": "code",
            "execution_count": 37,
            "metadata": {},
            "outputs": [
                {
                    "data": {
                        "text/plain": [
                            "array([0, 1, 2, 3, 4, 5])"
                        ]
                    },
                    "execution_count": 37,
                    "metadata": {},
                    "output_type": "execute_result"
                }
            ],
            "source": [
                "arr[:6] #everything upto 6"
            ]
        },
        {
            "cell_type": "code",
            "execution_count": 38,
            "metadata": {},
            "outputs": [
                {
                    "data": {
                        "text/plain": [
                            "array([ 4,  5,  6,  7,  8,  9, 10])"
                        ]
                    },
                    "execution_count": 38,
                    "metadata": {},
                    "output_type": "execute_result"
                }
            ],
            "source": [
                "arr[4:] #everything from 4 "
            ]
        },
        {
            "cell_type": "code",
            "execution_count": 40,
            "metadata": {},
            "outputs": [
                {
                    "data": {
                        "text/plain": [
                            "array([100, 100, 100, 100, 100,   5,   6,   7,   8,   9,  10])"
                        ]
                    },
                    "execution_count": 40,
                    "metadata": {},
                    "output_type": "execute_result"
                }
            ],
            "source": [
                "arr[0:5] = 100 #broadcasting the value\n",
                "arr"
            ]
        },
        {
            "cell_type": "code",
            "execution_count": 41,
            "metadata": {},
            "outputs": [
                {
                    "data": {
                        "text/plain": [
                            "array([ 0,  1,  2,  3,  4,  5,  6,  7,  8,  9, 10])"
                        ]
                    },
                    "execution_count": 41,
                    "metadata": {},
                    "output_type": "execute_result"
                }
            ],
            "source": [
                "arr = np.arange(0, 10+1)\n",
                "arr #resetting array"
            ]
        },
        {
            "cell_type": "code",
            "execution_count": 43,
            "metadata": {},
            "outputs": [
                {
                    "data": {
                        "text/plain": [
                            "array([0, 1, 2, 3, 4, 5])"
                        ]
                    },
                    "execution_count": 43,
                    "metadata": {},
                    "output_type": "execute_result"
                }
            ],
            "source": [
                "aSliceOfarr = arr[0:6] #making a slice of the array\n",
                "aSliceOfarr"
            ]
        },
        {
            "cell_type": "code",
            "execution_count": 44,
            "metadata": {},
            "outputs": [
                {
                    "data": {
                        "text/plain": [
                            "array([9, 9, 9, 9, 9, 9])"
                        ]
                    },
                    "execution_count": 44,
                    "metadata": {},
                    "output_type": "execute_result"
                }
            ],
            "source": [
                "aSliceOfarr[:] = 9 #carful with broadcasting\n",
                "aSliceOfarr"
            ]
        },
        {
            "cell_type": "code",
            "execution_count": 45,
            "metadata": {},
            "outputs": [
                {
                    "data": {
                        "text/plain": [
                            "array([ 9,  9,  9,  9,  9,  9,  6,  7,  8,  9, 10])"
                        ]
                    },
                    "execution_count": 45,
                    "metadata": {},
                    "output_type": "execute_result"
                }
            ],
            "source": [
                "arr #its not a copy but a view"
            ]
        },
        {
            "cell_type": "code",
            "execution_count": 46,
            "metadata": {},
            "outputs": [],
            "source": [
                "arrCopy = arr.copy() #use copy() method to create a copy"
            ]
        },
        {
            "cell_type": "code",
            "execution_count": 52,
            "metadata": {},
            "outputs": [
                {
                    "data": {
                        "text/plain": [
                            "array([ 0,  1,  2,  3,  4,  5,  6,  7,  8,  9, 10])"
                        ]
                    },
                    "execution_count": 52,
                    "metadata": {},
                    "output_type": "execute_result"
                }
            ],
            "source": [
                "arr = np.arange(0, 10+1)\n",
                "arr #resetting array"
            ]
        },
        {
            "cell_type": "code",
            "execution_count": 53,
            "metadata": {},
            "outputs": [
                {
                    "data": {
                        "text/plain": [
                            "array([9, 9, 9, 9, 9, 9, 9, 9, 9, 9, 9])"
                        ]
                    },
                    "execution_count": 53,
                    "metadata": {},
                    "output_type": "execute_result"
                }
            ],
            "source": [
                "arrCopy[:] = 9 #after using copy it wont modify the original arr\n",
                "arrCopy"
            ]
        },
        {
            "cell_type": "code",
            "execution_count": 54,
            "metadata": {},
            "outputs": [
                {
                    "data": {
                        "text/plain": [
                            "array([ 0,  1,  2,  3,  4,  5,  6,  7,  8,  9, 10])"
                        ]
                    },
                    "execution_count": 54,
                    "metadata": {},
                    "output_type": "execute_result"
                }
            ],
            "source": [
                "arr #its still the same"
            ]
        },
        {
            "cell_type": "code",
            "execution_count": 56,
            "metadata": {},
            "outputs": [
                {
                    "data": {
                        "text/plain": [
                            "array([[ 5, 10, 15],\n",
                            "       [20, 25, 30],\n",
                            "       [35, 40, 45]])"
                        ]
                    },
                    "execution_count": 56,
                    "metadata": {},
                    "output_type": "execute_result"
                }
            ],
            "source": [
                "arr2d = np.array([[5, 10, 15], [20, 25, 30], [35, 40, 45]])\n",
                "arr2d #a 2d nparray"
            ]
        },
        {
            "cell_type": "code",
            "execution_count": 60,
            "metadata": {},
            "outputs": [
                {
                    "data": {
                        "text/plain": [
                            "40"
                        ]
                    },
                    "execution_count": 60,
                    "metadata": {},
                    "output_type": "execute_result"
                }
            ],
            "source": [
                "arr2d[2][1] #indexing a 2d array"
            ]
        },
        {
            "cell_type": "code",
            "execution_count": 61,
            "metadata": {},
            "outputs": [
                {
                    "data": {
                        "text/plain": [
                            "40"
                        ]
                    },
                    "execution_count": 61,
                    "metadata": {},
                    "output_type": "execute_result"
                }
            ],
            "source": [
                "arr2d[2, 1] #indexing a 2d array in another way"
            ]
        },
        {
            "cell_type": "code",
            "execution_count": 62,
            "metadata": {},
            "outputs": [
                {
                    "data": {
                        "text/plain": [
                            "array([[10, 15],\n",
                            "       [25, 30]])"
                        ]
                    },
                    "execution_count": 62,
                    "metadata": {},
                    "output_type": "execute_result"
                }
            ],
            "source": [
                "arr2d[:2, 1:] #get everything upto row2 but everything from col1"
            ]
        },
        {
            "cell_type": "code",
            "execution_count": 63,
            "metadata": {},
            "outputs": [
                {
                    "data": {
                        "text/plain": [
                            "array([ 1,  2,  3,  4,  5,  6,  7,  8,  9, 10])"
                        ]
                    },
                    "execution_count": 63,
                    "metadata": {},
                    "output_type": "execute_result"
                }
            ],
            "source": [
                "arr = np.arange(1, 10+1)\n",
                "arr"
            ]
        },
        {
            "cell_type": "code",
            "execution_count": 65,
            "metadata": {},
            "outputs": [
                {
                    "data": {
                        "text/plain": [
                            "array([False, False, False, False, False,  True,  True,  True,  True,\n",
                            "        True])"
                        ]
                    },
                    "execution_count": 65,
                    "metadata": {},
                    "output_type": "execute_result"
                }
            ],
            "source": [
                "boolArr = arr > 5 #boolean nparray\n",
                "boolArr"
            ]
        },
        {
            "cell_type": "code",
            "execution_count": 66,
            "metadata": {},
            "outputs": [
                {
                    "data": {
                        "text/plain": [
                            "array([ 6,  7,  8,  9, 10])"
                        ]
                    },
                    "execution_count": 66,
                    "metadata": {},
                    "output_type": "execute_result"
                }
            ],
            "source": [
                "arr[boolArr] #using boolArr to connditionally select values"
            ]
        },
        {
            "cell_type": "code",
            "execution_count": 67,
            "metadata": {},
            "outputs": [
                {
                    "data": {
                        "text/plain": [
                            "array([1, 2])"
                        ]
                    },
                    "execution_count": 67,
                    "metadata": {},
                    "output_type": "execute_result"
                }
            ],
            "source": [
                "arr[arr<3] #another condition"
            ]
        },
        {
            "cell_type": "code",
            "execution_count": 71,
            "metadata": {},
            "outputs": [
                {
                    "data": {
                        "text/plain": [
                            "array([[ 0,  1,  2,  3,  4,  5,  6,  7,  8,  9],\n",
                            "       [10, 11, 12, 13, 14, 15, 16, 17, 18, 19],\n",
                            "       [20, 21, 22, 23, 24, 25, 26, 27, 28, 29],\n",
                            "       [30, 31, 32, 33, 34, 35, 36, 37, 38, 39],\n",
                            "       [40, 41, 42, 43, 44, 45, 46, 47, 48, 49]])"
                        ]
                    },
                    "execution_count": 71,
                    "metadata": {},
                    "output_type": "execute_result"
                }
            ],
            "source": [
                "arr2d = np.arange(50).reshape(5, 10) #sample arr\n",
                "arr2d"
            ]
        },
        {
            "cell_type": "code",
            "execution_count": 72,
            "metadata": {},
            "outputs": [
                {
                    "data": {
                        "text/plain": [
                            "array([[13, 14],\n",
                            "       [23, 24]])"
                        ]
                    },
                    "execution_count": 72,
                    "metadata": {},
                    "output_type": "execute_result"
                }
            ],
            "source": [
                "arr2d[1:3, 3:5] #slicing an array in a weird way"
            ]
        },
        {
            "cell_type": "markdown",
            "metadata": {},
            "source": [
                "#Numpy operations"
            ]
        },
        {
            "cell_type": "code",
            "execution_count": 74,
            "metadata": {},
            "outputs": [
                {
                    "data": {
                        "text/plain": [
                            "array([ 0,  1,  2,  3,  4,  5,  6,  7,  8,  9, 10])"
                        ]
                    },
                    "execution_count": 74,
                    "metadata": {},
                    "output_type": "execute_result"
                }
            ],
            "source": [
                "arr = np.arange(0, 10+1)\n",
                "arr #making an array"
            ]
        },
        {
            "cell_type": "code",
            "execution_count": 75,
            "metadata": {},
            "outputs": [
                {
                    "data": {
                        "text/plain": [
                            "array([ 0,  2,  4,  6,  8, 10, 12, 14, 16, 18, 20])"
                        ]
                    },
                    "execution_count": 75,
                    "metadata": {},
                    "output_type": "execute_result"
                }
            ],
            "source": [
                "arr + arr #adding"
            ]
        },
        {
            "cell_type": "code",
            "execution_count": 76,
            "metadata": {},
            "outputs": [
                {
                    "data": {
                        "text/plain": [
                            "array([0, 0, 0, 0, 0, 0, 0, 0, 0, 0, 0])"
                        ]
                    },
                    "execution_count": 76,
                    "metadata": {},
                    "output_type": "execute_result"
                }
            ],
            "source": [
                "arr - arr #subtracting"
            ]
        },
        {
            "cell_type": "code",
            "execution_count": 77,
            "metadata": {},
            "outputs": [
                {
                    "data": {
                        "text/plain": [
                            "array([  0,   1,   4,   9,  16,  25,  36,  49,  64,  81, 100])"
                        ]
                    },
                    "execution_count": 77,
                    "metadata": {},
                    "output_type": "execute_result"
                }
            ],
            "source": [
                "arr * arr #multiplying"
            ]
        },
        {
            "cell_type": "code",
            "execution_count": 78,
            "metadata": {},
            "outputs": [
                {
                    "data": {
                        "text/plain": [
                            "array([100, 101, 102, 103, 104, 105, 106, 107, 108, 109, 110])"
                        ]
                    },
                    "execution_count": 78,
                    "metadata": {},
                    "output_type": "execute_result"
                }
            ],
            "source": [
                "arr + 100 #adding with constant"
            ]
        },
        {
            "cell_type": "code",
            "execution_count": 79,
            "metadata": {},
            "outputs": [
                {
                    "data": {
                        "text/plain": [
                            "array([   0,  100,  200,  300,  400,  500,  600,  700,  800,  900, 1000])"
                        ]
                    },
                    "execution_count": 79,
                    "metadata": {},
                    "output_type": "execute_result"
                }
            ],
            "source": [
                "arr * 100 #multiplying with constant"
            ]
        },
        {
            "cell_type": "code",
            "execution_count": 80,
            "metadata": {},
            "outputs": [
                {
                    "name": "stderr",
                    "output_type": "stream",
                    "text": [
                        "C:\\Users\\yeshw\\AppData\\Local\\Temp/ipykernel_14408/3001117470.py:1: RuntimeWarning: invalid value encountered in true_divide\n",
                        "  arr / arr\n"
                    ]
                },
                {
                    "data": {
                        "text/plain": [
                            "array([nan,  1.,  1.,  1.,  1.,  1.,  1.,  1.,  1.,  1.,  1.])"
                        ]
                    },
                    "execution_count": 80,
                    "metadata": {},
                    "output_type": "execute_result"
                }
            ],
            "source": [
                "arr / arr #dividing with constant"
            ]
        },
        {
            "cell_type": "code",
            "execution_count": 81,
            "metadata": {},
            "outputs": [
                {
                    "data": {
                        "text/plain": [
                            "array([  0,   1,   4,   9,  16,  25,  36,  49,  64,  81, 100], dtype=int32)"
                        ]
                    },
                    "execution_count": 81,
                    "metadata": {},
                    "output_type": "execute_result"
                }
            ],
            "source": [
                "arr ** 2 #taking power of with a constant"
            ]
        },
        {
            "cell_type": "code",
            "execution_count": 82,
            "metadata": {},
            "outputs": [
                {
                    "data": {
                        "text/plain": [
                            "array([0.        , 1.        , 1.41421356, 1.73205081, 2.        ,\n",
                            "       2.23606798, 2.44948974, 2.64575131, 2.82842712, 3.        ,\n",
                            "       3.16227766])"
                        ]
                    },
                    "execution_count": 82,
                    "metadata": {},
                    "output_type": "execute_result"
                }
            ],
            "source": [
                "np.sqrt(arr) #taking square root of al elements "
            ]
        },
        {
            "cell_type": "code",
            "execution_count": 83,
            "metadata": {},
            "outputs": [
                {
                    "data": {
                        "text/plain": [
                            "array([1.00000000e+00, 2.71828183e+00, 7.38905610e+00, 2.00855369e+01,\n",
                            "       5.45981500e+01, 1.48413159e+02, 4.03428793e+02, 1.09663316e+03,\n",
                            "       2.98095799e+03, 8.10308393e+03, 2.20264658e+04])"
                        ]
                    },
                    "execution_count": 83,
                    "metadata": {},
                    "output_type": "execute_result"
                }
            ],
            "source": [
                "np.exp(arr) #taking exponential of all elements "
            ]
        },
        {
            "cell_type": "code",
            "execution_count": 84,
            "metadata": {},
            "outputs": [
                {
                    "data": {
                        "text/plain": [
                            "10"
                        ]
                    },
                    "execution_count": 84,
                    "metadata": {},
                    "output_type": "execute_result"
                }
            ],
            "source": [
                "np.max(arr) #getting the max value"
            ]
        },
        {
            "cell_type": "code",
            "execution_count": 85,
            "metadata": {},
            "outputs": [
                {
                    "data": {
                        "text/plain": [
                            "array([ 0.        ,  0.84147098,  0.90929743,  0.14112001, -0.7568025 ,\n",
                            "       -0.95892427, -0.2794155 ,  0.6569866 ,  0.98935825,  0.41211849,\n",
                            "       -0.54402111])"
                        ]
                    },
                    "execution_count": 85,
                    "metadata": {},
                    "output_type": "execute_result"
                }
            ],
            "source": [
                "np.sin(arr) #taking the sin value of all elements "
            ]
        },
        {
            "cell_type": "code",
            "execution_count": 86,
            "metadata": {},
            "outputs": [
                {
                    "name": "stderr",
                    "output_type": "stream",
                    "text": [
                        "C:\\Users\\yeshw\\AppData\\Local\\Temp/ipykernel_14408/3120950136.py:1: RuntimeWarning: divide by zero encountered in log\n",
                        "  np.log(arr)\n"
                    ]
                },
                {
                    "data": {
                        "text/plain": [
                            "array([      -inf, 0.        , 0.69314718, 1.09861229, 1.38629436,\n",
                            "       1.60943791, 1.79175947, 1.94591015, 2.07944154, 2.19722458,\n",
                            "       2.30258509])"
                        ]
                    },
                    "execution_count": 86,
                    "metadata": {},
                    "output_type": "execute_result"
                }
            ],
            "source": [
                "np.log(arr) #taking the log of all values"
            ]
        },
        {
            "cell_type": "markdown",
            "metadata": {},
            "source": [
                "#checkout docs.scipy.org/doc/numpy/reference/ufuncs.html"
            ]
        },
        {
            "cell_type": "markdown",
            "metadata": {},
            "source": [
                "#Summary"
            ]
        },
        {
            "cell_type": "markdown",
            "metadata": {},
            "source": [
                "#creating an array of 10 zeros"
            ]
        },
        {
            "cell_type": "code",
            "execution_count": 87,
            "metadata": {},
            "outputs": [
                {
                    "data": {
                        "text/plain": [
                            "array([0., 0., 0., 0., 0., 0., 0., 0., 0., 0.])"
                        ]
                    },
                    "execution_count": 87,
                    "metadata": {},
                    "output_type": "execute_result"
                }
            ],
            "source": [
                "np.zeros(10)"
            ]
        },
        {
            "cell_type": "markdown",
            "metadata": {},
            "source": [
                "#creating an array of 10 ones"
            ]
        },
        {
            "cell_type": "code",
            "execution_count": 88,
            "metadata": {},
            "outputs": [
                {
                    "data": {
                        "text/plain": [
                            "array([1.])"
                        ]
                    },
                    "execution_count": 88,
                    "metadata": {},
                    "output_type": "execute_result"
                }
            ],
            "source": [
                "np.ones(1)"
            ]
        },
        {
            "cell_type": "markdown",
            "metadata": {},
            "source": [
                "#create an array of 10 fives"
            ]
        },
        {
            "cell_type": "code",
            "execution_count": 89,
            "metadata": {},
            "outputs": [
                {
                    "data": {
                        "text/plain": [
                            "array([5., 5., 5., 5., 5., 5., 5., 5., 5., 5.])"
                        ]
                    },
                    "execution_count": 89,
                    "metadata": {},
                    "output_type": "execute_result"
                }
            ],
            "source": [
                "np.ones(10)*5"
            ]
        },
        {
            "cell_type": "markdown",
            "metadata": {},
            "source": [
                "#create an array from 10 to 50"
            ]
        },
        {
            "cell_type": "code",
            "execution_count": 90,
            "metadata": {},
            "outputs": [
                {
                    "data": {
                        "text/plain": [
                            "array([10, 11, 12, 13, 14, 15, 16, 17, 18, 19, 20, 21, 22, 23, 24, 25, 26,\n",
                            "       27, 28, 29, 30, 31, 32, 33, 34, 35, 36, 37, 38, 39, 40, 41, 42, 43,\n",
                            "       44, 45, 46, 47, 48, 49, 50])"
                        ]
                    },
                    "execution_count": 90,
                    "metadata": {},
                    "output_type": "execute_result"
                }
            ],
            "source": [
                "np.arange(10, 51)"
            ]
        },
        {
            "cell_type": "markdown",
            "metadata": {},
            "source": [
                "#creating an array of even ints from 10 to 51"
            ]
        },
        {
            "cell_type": "code",
            "execution_count": 91,
            "metadata": {},
            "outputs": [
                {
                    "data": {
                        "text/plain": [
                            "array([10, 12, 14, 16, 18, 20, 22, 24, 26, 28, 30, 32, 34, 36, 38, 40, 42,\n",
                            "       44, 46, 48, 50])"
                        ]
                    },
                    "execution_count": 91,
                    "metadata": {},
                    "output_type": "execute_result"
                }
            ],
            "source": [
                "np.arange(10, 51, 2)"
            ]
        },
        {
            "cell_type": "markdown",
            "metadata": {},
            "source": [
                "#creating a 3x3 matrix from int 0 to 8"
            ]
        },
        {
            "cell_type": "code",
            "execution_count": 99,
            "metadata": {},
            "outputs": [
                {
                    "data": {
                        "text/plain": [
                            "array([[0, 1, 2],\n",
                            "       [3, 4, 5],\n",
                            "       [6, 7, 8]])"
                        ]
                    },
                    "execution_count": 99,
                    "metadata": {},
                    "output_type": "execute_result"
                }
            ],
            "source": [
                "np.arange(9).reshape(3,3)"
            ]
        },
        {
            "cell_type": "markdown",
            "metadata": {},
            "source": [
                "#creating a 3x3 identity matrix"
            ]
        },
        {
            "cell_type": "code",
            "execution_count": 100,
            "metadata": {},
            "outputs": [
                {
                    "data": {
                        "text/plain": [
                            "array([[1., 0., 0.],\n",
                            "       [0., 1., 0.],\n",
                            "       [0., 0., 1.]])"
                        ]
                    },
                    "execution_count": 100,
                    "metadata": {},
                    "output_type": "execute_result"
                }
            ],
            "source": [
                "np.eye(3)"
            ]
        },
        {
            "cell_type": "markdown",
            "metadata": {},
            "source": [
                "#using numpy to generate a random number between 0 to 1"
            ]
        },
        {
            "cell_type": "code",
            "execution_count": 104,
            "metadata": {},
            "outputs": [
                {
                    "data": {
                        "text/plain": [
                            "array([0.03766378])"
                        ]
                    },
                    "execution_count": 104,
                    "metadata": {},
                    "output_type": "execute_result"
                }
            ],
            "source": [
                "np.random.rand(1)"
            ]
        },
        {
            "cell_type": "markdown",
            "metadata": {},
            "source": [
                "#generate 25 random numbers evenly spaced from a standard normal distribution"
            ]
        },
        {
            "cell_type": "code",
            "execution_count": 105,
            "metadata": {},
            "outputs": [
                {
                    "data": {
                        "text/plain": [
                            "array([-0.98382562, -0.11410459, -1.45255798, -0.06773944, -0.63925269,\n",
                            "       -0.15932651,  0.72851969, -0.3192783 , -1.01418405,  0.26145445,\n",
                            "       -0.2762289 ,  1.20876811, -0.97339608, -0.4141052 ,  0.93296715,\n",
                            "       -0.93661855,  0.25257189, -1.03030115, -0.66285076, -0.33531362,\n",
                            "       -0.6466048 ,  0.29390005, -0.85890963, -1.21135737, -1.05191364])"
                        ]
                    },
                    "execution_count": 105,
                    "metadata": {},
                    "output_type": "execute_result"
                }
            ],
            "source": [
                "np.random.randn(25)"
            ]
        },
        {
            "cell_type": "markdown",
            "metadata": {},
            "source": [
                "#creating this weird matrix"
            ]
        },
        {
            "cell_type": "code",
            "execution_count": 108,
            "metadata": {},
            "outputs": [
                {
                    "data": {
                        "text/plain": [
                            "array([[0.01, 0.02, 0.03, 0.04, 0.05, 0.06, 0.07, 0.08, 0.09, 0.1 ],\n",
                            "       [0.11, 0.12, 0.13, 0.14, 0.15, 0.16, 0.17, 0.18, 0.19, 0.2 ],\n",
                            "       [0.21, 0.22, 0.23, 0.24, 0.25, 0.26, 0.27, 0.28, 0.29, 0.3 ],\n",
                            "       [0.31, 0.32, 0.33, 0.34, 0.35, 0.36, 0.37, 0.38, 0.39, 0.4 ],\n",
                            "       [0.41, 0.42, 0.43, 0.44, 0.45, 0.46, 0.47, 0.48, 0.49, 0.5 ],\n",
                            "       [0.51, 0.52, 0.53, 0.54, 0.55, 0.56, 0.57, 0.58, 0.59, 0.6 ],\n",
                            "       [0.61, 0.62, 0.63, 0.64, 0.65, 0.66, 0.67, 0.68, 0.69, 0.7 ],\n",
                            "       [0.71, 0.72, 0.73, 0.74, 0.75, 0.76, 0.77, 0.78, 0.79, 0.8 ],\n",
                            "       [0.81, 0.82, 0.83, 0.84, 0.85, 0.86, 0.87, 0.88, 0.89, 0.9 ],\n",
                            "       [0.91, 0.92, 0.93, 0.94, 0.95, 0.96, 0.97, 0.98, 0.99, 1.  ]])"
                        ]
                    },
                    "execution_count": 108,
                    "metadata": {},
                    "output_type": "execute_result"
                }
            ],
            "source": [
                "np.arange(1,100+1).reshape(10, 10) / 100"
            ]
        },
        {
            "cell_type": "markdown",
            "metadata": {},
            "source": [
                "#creating 20 linearly spaced points between 0 & 1"
            ]
        },
        {
            "cell_type": "code",
            "execution_count": 109,
            "metadata": {},
            "outputs": [
                {
                    "data": {
                        "text/plain": [
                            "array([0.        , 0.05263158, 0.10526316, 0.15789474, 0.21052632,\n",
                            "       0.26315789, 0.31578947, 0.36842105, 0.42105263, 0.47368421,\n",
                            "       0.52631579, 0.57894737, 0.63157895, 0.68421053, 0.73684211,\n",
                            "       0.78947368, 0.84210526, 0.89473684, 0.94736842, 1.        ])"
                        ]
                    },
                    "execution_count": 109,
                    "metadata": {},
                    "output_type": "execute_result"
                }
            ],
            "source": [
                "np.linspace(0,1,20)"
            ]
        }
    ],
    "metadata": {
        "interpreter": {
            "hash": "34c9a9d5ac8fd24ba68c1022c14208806afa43d9d3639edb9a38f7128fa6b120"
        },
        "kernelspec": {
            "display_name": "Python 3.9.7 64-bit ('datasci': conda)",
            "name": "python3"
        },
        "language_info": {
            "codemirror_mode": {
                "name": "ipython",
                "version": 3
            },
            "file_extension": ".py",
            "mimetype": "text/x-python",
            "name": "python",
            "nbconvert_exporter": "python",
            "pygments_lexer": "ipython3",
            "version": "3.9.7"
        },
        "orig_nbformat": 4
    },
    "nbformat": 4,
    "nbformat_minor": 2
}
